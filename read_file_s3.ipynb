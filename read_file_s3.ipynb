{
 "cells": [
  {
   "cell_type": "code",
   "execution_count": 1,
   "id": "b88a3222-9845-403c-9df5-9815771c68c5",
   "metadata": {},
   "outputs": [],
   "source": [
    "import sys"
   ]
  },
  {
   "cell_type": "code",
   "execution_count": 2,
   "id": "b8133868-52ff-4216-a43e-978a46cbab0c",
   "metadata": {},
   "outputs": [
    {
     "data": {
      "text/plain": [
       "'/home/jovyan/env/bin/python'"
      ]
     },
     "execution_count": 2,
     "metadata": {},
     "output_type": "execute_result"
    }
   ],
   "source": [
    "sys.executable"
   ]
  },
  {
   "cell_type": "code",
   "execution_count": 49,
   "id": "6c61af01-e8d5-4079-950c-d01e8d9e5d55",
   "metadata": {},
   "outputs": [],
   "source": [
    "import boto3\n",
    "import pandas as pd\n",
    "import numpy as np\n",
    "from io import StringIO\n",
    "import io"
   ]
  },
  {
   "cell_type": "code",
   "execution_count": 6,
   "id": "a9db7381-81a3-47a8-a32f-2f0a4576a627",
   "metadata": {},
   "outputs": [
    {
     "name": "stdout",
     "output_type": "stream",
     "text": [
      "/bin/bash: line 1: ping: command not found\n"
     ]
    }
   ],
   "source": [
    "!ping minio-service.kubeflow:9000"
   ]
  },
  {
   "cell_type": "code",
   "execution_count": 43,
   "id": "39c0118b-565b-4dfb-a183-8f915f4ebd18",
   "metadata": {},
   "outputs": [],
   "source": [
    "minio_endpoint = \"minio-service.kubeflow:9000\"  # or \"localhost:9000\" if port-forwarded\n",
    "access_key = \"some\"\n",
    "secret_key = \"some\"\n",
    "bucket_name = \"mlpipeline\"\n",
    "file_key = \"v2/artifacts/smth\" "
   ]
  },
  {
   "cell_type": "code",
   "execution_count": 44,
   "id": "aa6e56f8-a251-4fc2-a3a9-b980d890bdb6",
   "metadata": {},
   "outputs": [],
   "source": [
    "s3 = boto3.client(\n",
    "    's3',\n",
    "    endpoint_url=f\"http://{minio_endpoint}\",\n",
    "    aws_access_key_id=access_key,\n",
    "    aws_secret_access_key=secret_key\n",
    ")"
   ]
  },
  {
   "cell_type": "code",
   "execution_count": 45,
   "id": "253949b7-debd-4cc2-bf19-fa1cc43936fc",
   "metadata": {},
   "outputs": [],
   "source": [
    "obj = s3.get_object(Bucket=bucket_name, Key=file_key)"
   ]
  },
  {
   "cell_type": "code",
   "execution_count": 33,
   "id": "c56b7017-3c4a-4b38-b6c2-978e95d7fd1e",
   "metadata": {},
   "outputs": [
    {
     "data": {
      "text/plain": [
       "{'ResponseMetadata': {'RequestId': '183C6775FDD8C9E9',\n",
       "  'HostId': '',\n",
       "  'HTTPStatusCode': 200,\n",
       "  'HTTPHeaders': {'accept-ranges': 'bytes',\n",
       "   'content-length': '15488',\n",
       "   'content-security-policy': 'block-all-mixed-content',\n",
       "   'content-type': 'application/octet-stream',\n",
       "   'etag': '\"cda2f2ae821981baec8644379bff950b\"',\n",
       "   'last-modified': 'Sun, 04 May 2025 18:39:12 GMT',\n",
       "   'server': 'envoy',\n",
       "   'vary': 'Origin',\n",
       "   'x-amz-request-id': '183C6775FDD8C9E9',\n",
       "   'x-xss-protection': '1; mode=block',\n",
       "   'date': 'Sun, 04 May 2025 18:48:31 GMT',\n",
       "   'x-envoy-upstream-service-time': '1'},\n",
       "  'RetryAttempts': 0},\n",
       " 'AcceptRanges': 'bytes',\n",
       " 'LastModified': datetime.datetime(2025, 5, 4, 18, 39, 12, tzinfo=tzutc()),\n",
       " 'ContentLength': 15488,\n",
       " 'ETag': '\"cda2f2ae821981baec8644379bff950b\"',\n",
       " 'ContentType': 'application/octet-stream',\n",
       " 'Metadata': {},\n",
       " 'Body': <botocore.response.StreamingBody at 0x7f137cedd5a0>}"
      ]
     },
     "execution_count": 33,
     "metadata": {},
     "output_type": "execute_result"
    }
   ],
   "source": [
    "obj"
   ]
  },
  {
   "cell_type": "code",
   "execution_count": 36,
   "id": "2d42535c-3f9f-4331-8de8-c3dd1d95b00d",
   "metadata": {},
   "outputs": [
    {
     "name": "stdout",
     "output_type": "stream",
     "text": [
      "15488\n"
     ]
    }
   ],
   "source": [
    "print(obj['ContentLength'])  # should be > 0"
   ]
  },
  {
   "cell_type": "code",
   "execution_count": 50,
   "id": "b86fcf80-6cf2-445f-b64e-f4faf258f90f",
   "metadata": {},
   "outputs": [],
   "source": [
    "x_train = np.load(io.BytesIO(obj['Body'].read()))"
   ]
  },
  {
   "cell_type": "code",
   "execution_count": 51,
   "id": "66f5da33-a356-4d7f-90be-c359390f18fe",
   "metadata": {},
   "outputs": [
    {
     "data": {
      "text/plain": [
       "array([[-1.2226e+02,  3.7880e+01,  5.2000e+01, ...,  1.7980e+03,\n",
       "         7.6900e+02,  1.7250e+00],\n",
       "       [-1.2221e+02,  3.7780e+01,  4.6000e+01, ...,  1.3900e+03,\n",
       "         5.6900e+02,  2.7352e+00],\n",
       "       [-1.2228e+02,  3.7850e+01,  4.1000e+01, ...,  3.1700e+02,\n",
       "         1.1900e+02,  2.4038e+00],\n",
       "       ...,\n",
       "       [-1.2217e+02,  3.7770e+01,  3.0000e+01, ...,  1.7040e+03,\n",
       "         7.0300e+02,  2.8750e+00],\n",
       "       [-1.2213e+02,  3.7740e+01,  4.1000e+01, ...,  1.4760e+03,\n",
       "         6.4800e+02,  5.0000e+00],\n",
       "       [-1.2222e+02,  3.7810e+01,  5.2000e+01, ...,  1.0210e+03,\n",
       "         3.8000e+02,  8.1564e+00]], shape=(480, 8), dtype=float32)"
      ]
     },
     "execution_count": 51,
     "metadata": {},
     "output_type": "execute_result"
    }
   ],
   "source": [
    "x_train"
   ]
  },
  {
   "cell_type": "code",
   "execution_count": null,
   "id": "db21c236-5edf-4e0a-9afa-50c51116f8e0",
   "metadata": {},
   "outputs": [],
   "source": []
  }
 ],
 "metadata": {
  "kernelspec": {
   "display_name": "Python (myenv)",
   "language": "python",
   "name": "env"
  },
  "language_info": {
   "codemirror_mode": {
    "name": "ipython",
    "version": 3
   },
   "file_extension": ".py",
   "mimetype": "text/x-python",
   "name": "python",
   "nbconvert_exporter": "python",
   "pygments_lexer": "ipython3",
   "version": "3.11.11"
  }
 },
 "nbformat": 4,
 "nbformat_minor": 5
}
