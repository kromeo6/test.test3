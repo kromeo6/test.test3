{
 "cells": [
  {
   "cell_type": "markdown",
   "metadata": {},
   "source": [
    "# Kubeflow Pipelines with Katib component\n",
    "\n",
    "In this notebook you will:\n",
    "- Create Katib Experiment using random algorithm.\n",
    "- Use median stopping rule as an early stopping algorithm.\n",
    "- Use Kubernetes Job with pytorch mnist training container as a Trial template.\n",
    "- Create Pipeline to get the optimal hyperparameters.\n",
    "\n",
    "Reference documentation:\n",
    "- https://kubeflow.org/docs/components/katib/experiment/#random-search\n",
    "- https://kubeflow.org/docs/components/katib/early-stopping/\n",
    "- https://kubeflow.org/docs/pipelines/overview/concepts/component/\n",
    "\n",
    "**Note**: This Pipeline runs in the multi-user mode. Follow [this guide](https://github.com/kubeflow/katib/tree/master/examples/v1beta1/kubeflow-pipelines#multi-user-pipelines-setup) to give your Notebook access to Kubeflow Pipelines."
   ]
  },
  {
   "cell_type": "code",
   "execution_count": 1,
   "metadata": {},
   "outputs": [
    {
     "name": "stdout",
     "output_type": "stream",
     "text": [
      "Collecting kubeflow-katib==0.13.0\n",
      "  Using cached kubeflow_katib-0.13.0-py3-none-any.whl.metadata (1.4 kB)\n",
      "Requirement already satisfied: certifi>=14.05.14 in /opt/conda/lib/python3.11/site-packages (from kubeflow-katib==0.13.0) (2025.1.31)\n",
      "Requirement already satisfied: six>=1.10 in /opt/conda/lib/python3.11/site-packages (from kubeflow-katib==0.13.0) (1.17.0)\n",
      "Requirement already satisfied: setuptools>=21.0.0 in /opt/conda/lib/python3.11/site-packages (from kubeflow-katib==0.13.0) (75.8.0)\n",
      "Requirement already satisfied: urllib3>=1.15.1 in /opt/conda/lib/python3.11/site-packages (from kubeflow-katib==0.13.0) (1.26.20)\n",
      "Requirement already satisfied: kubernetes>=12.0.0 in /opt/conda/lib/python3.11/site-packages (from kubeflow-katib==0.13.0) (30.1.0)\n",
      "Requirement already satisfied: python-dateutil>=2.5.3 in /opt/conda/lib/python3.11/site-packages (from kubernetes>=12.0.0->kubeflow-katib==0.13.0) (2.9.0.post0)\n",
      "Requirement already satisfied: pyyaml>=5.4.1 in /opt/conda/lib/python3.11/site-packages (from kubernetes>=12.0.0->kubeflow-katib==0.13.0) (6.0.2)\n",
      "Requirement already satisfied: google-auth>=1.0.1 in /opt/conda/lib/python3.11/site-packages (from kubernetes>=12.0.0->kubeflow-katib==0.13.0) (2.38.0)\n",
      "Requirement already satisfied: websocket-client!=0.40.0,!=0.41.*,!=0.42.*,>=0.32.0 in /opt/conda/lib/python3.11/site-packages (from kubernetes>=12.0.0->kubeflow-katib==0.13.0) (1.8.0)\n",
      "Requirement already satisfied: requests in /opt/conda/lib/python3.11/site-packages (from kubernetes>=12.0.0->kubeflow-katib==0.13.0) (2.32.3)\n",
      "Requirement already satisfied: requests-oauthlib in /opt/conda/lib/python3.11/site-packages (from kubernetes>=12.0.0->kubeflow-katib==0.13.0) (2.0.0)\n",
      "Requirement already satisfied: oauthlib>=3.2.2 in /opt/conda/lib/python3.11/site-packages (from kubernetes>=12.0.0->kubeflow-katib==0.13.0) (3.2.2)\n",
      "Requirement already satisfied: cachetools<6.0,>=2.0.0 in /opt/conda/lib/python3.11/site-packages (from google-auth>=1.0.1->kubernetes>=12.0.0->kubeflow-katib==0.13.0) (5.5.1)\n",
      "Requirement already satisfied: pyasn1-modules>=0.2.1 in /opt/conda/lib/python3.11/site-packages (from google-auth>=1.0.1->kubernetes>=12.0.0->kubeflow-katib==0.13.0) (0.4.1)\n",
      "Requirement already satisfied: rsa<5,>=3.1.4 in /opt/conda/lib/python3.11/site-packages (from google-auth>=1.0.1->kubernetes>=12.0.0->kubeflow-katib==0.13.0) (4.9)\n",
      "Requirement already satisfied: charset_normalizer<4,>=2 in /opt/conda/lib/python3.11/site-packages (from requests->kubernetes>=12.0.0->kubeflow-katib==0.13.0) (3.4.1)\n",
      "Requirement already satisfied: idna<4,>=2.5 in /opt/conda/lib/python3.11/site-packages (from requests->kubernetes>=12.0.0->kubeflow-katib==0.13.0) (3.10)\n",
      "Requirement already satisfied: pyasn1<0.7.0,>=0.4.6 in /opt/conda/lib/python3.11/site-packages (from pyasn1-modules>=0.2.1->google-auth>=1.0.1->kubernetes>=12.0.0->kubeflow-katib==0.13.0) (0.6.1)\n",
      "Using cached kubeflow_katib-0.13.0-py3-none-any.whl (89 kB)\n",
      "Installing collected packages: kubeflow-katib\n",
      "Successfully installed kubeflow-katib-0.13.0\n"
     ]
    }
   ],
   "source": [
    "# Install required packages (Kubeflow Pipelines and Katib SDK).\n",
    "# !pip install kfp==1.8.12\n",
    "!pip install kubeflow-katib==0.13.0"
   ]
  },
  {
   "cell_type": "code",
   "execution_count": 1,
   "metadata": {
    "scrolled": true
   },
   "outputs": [
    {
     "name": "stderr",
     "output_type": "stream",
     "text": [
      "/tmp/ipykernel_159/642187433.py:1: FutureWarning: KFP will drop support for Python 3.8 on Oct 1, 2024. To use new versions of the KFP SDK after that date, you will need to upgrade to Python >= 3.9. See https://devguide.python.org/versions/ for more details.\n",
      "  import kfp\n"
     ]
    }
   ],
   "source": [
    "import kfp\n",
    "import kfp.dsl as dsl\n",
    "from kfp import components\n",
    "\n",
    "from kubeflow.katib import ApiClient\n",
    "from kubeflow.katib import V1beta1ExperimentSpec\n",
    "from kubeflow.katib import V1beta1AlgorithmSpec\n",
    "from kubeflow.katib import V1beta1EarlyStoppingSpec\n",
    "from kubeflow.katib import V1beta1EarlyStoppingSetting\n",
    "from kubeflow.katib import V1beta1ObjectiveSpec\n",
    "from kubeflow.katib import V1beta1ParameterSpec\n",
    "from kubeflow.katib import V1beta1FeasibleSpace\n",
    "from kubeflow.katib import V1beta1TrialTemplate\n",
    "from kubeflow.katib import V1beta1TrialParameterSpec"
   ]
  },
  {
   "cell_type": "markdown",
   "metadata": {},
   "source": [
    "## Define an Experiment\n",
    "\n",
    "You have to create an Experiment object before deploying it. This Experiment is similar to [this](https://github.com/kubeflow/katib/blob/master/examples/v1beta1/early-stopping/median-stop.yaml) YAML."
   ]
  },
  {
   "cell_type": "code",
   "execution_count": 2,
   "metadata": {},
   "outputs": [],
   "source": [
    "# Experiment name and namespace.\n",
    "experiment_name = \"median-stop-2\"\n",
    "experiment_namespace = \"kubeflow-user-example-com\"\n",
    "\n",
    "# Trial count specification.\n",
    "max_trial_count = 18\n",
    "max_failed_trial_count = 3\n",
    "parallel_trial_count = 2\n",
    "\n",
    "# Objective specification.\n",
    "objective=V1beta1ObjectiveSpec(\n",
    "    type=\"minimize\",\n",
    "    goal= 0.001,\n",
    "    objective_metric_name=\"loss\",\n",
    ")\n",
    "\n",
    "# Algorithm specification.\n",
    "algorithm=V1beta1AlgorithmSpec(\n",
    "    algorithm_name=\"random\",\n",
    ")\n",
    "\n",
    "# Early Stopping specification.\n",
    "early_stopping=V1beta1EarlyStoppingSpec(\n",
    "    algorithm_name=\"medianstop\",\n",
    "    algorithm_settings=[\n",
    "        V1beta1EarlyStoppingSetting(\n",
    "            name=\"min_trials_required\",\n",
    "            value=\"2\"\n",
    "        )\n",
    "    ]\n",
    ")\n",
    "\n",
    "# Experiment search space.\n",
    "# In this example we tune learning rate, number of layer and optimizer.\n",
    "# Learning rate has bad feasible space to show more early stopped Trials.\n",
    "parameters=[\n",
    "    V1beta1ParameterSpec(\n",
    "        name=\"lr\",\n",
    "        parameter_type=\"double\",\n",
    "        feasible_space=V1beta1FeasibleSpace(\n",
    "            min=\"0.01\",\n",
    "            max=\"0.3\"\n",
    "        ),\n",
    "    ),\n",
    "    V1beta1ParameterSpec(\n",
    "        name=\"momentum\",\n",
    "        parameter_type=\"double\",\n",
    "        feasible_space=V1beta1FeasibleSpace(\n",
    "            min=\"0.5\",\n",
    "            max=\"0.9\"\n",
    "        ),\n",
    "    ),\n",
    "]\n"
   ]
  },
  {
   "cell_type": "markdown",
   "metadata": {},
   "source": [
    "## Define a Trial template\n",
    "\n",
    "In this example, the Trial's Worker is the Kubernetes Job."
   ]
  },
  {
   "cell_type": "code",
   "execution_count": 3,
   "metadata": {},
   "outputs": [],
   "source": [
    "# JSON template specification for the Trial's Worker Kubernetes Job.\n",
    "trial_spec={\n",
    "    \"apiVersion\": \"batch/v1\",\n",
    "    \"kind\": \"Job\",\n",
    "    \"spec\": {\n",
    "        \"template\": {\n",
    "            \"metadata\": {\n",
    "                \"labels\": {\n",
    "                     \"sidecar.istio.io/inject\": \"false\"\n",
    "                }\n",
    "            },\n",
    "            \"spec\": {\n",
    "                \"containers\": [\n",
    "                    {\n",
    "                        \"name\": \"training-container\",\n",
    "                        \"image\": \"docker.io/kubeflowkatib/pytorch-mnist-cpu:v0.14.0\",\n",
    "                        \"command\": [\n",
    "                            \"python3\",\n",
    "                            \"/opt/pytorch-mnist/mnist.py\",\n",
    "                            \"--epochs=1\",\n",
    "                            \"--batch-size=16\",\n",
    "                            \"--lr=${trialParameters.learningRate}\",\n",
    "                            \"--momentum=${trialParameters.momentum}\",\n",
    "                        ]\n",
    "                    }\n",
    "                ],\n",
    "                \"restartPolicy\": \"Never\"\n",
    "            }\n",
    "        }\n",
    "    }\n",
    "}\n",
    "\n",
    "# Configure parameters for the Trial template.\n",
    "# We set the retain parameter to \"True\" to not clean-up the Trial Job's Kubernetes Pods.\n",
    "trial_template=V1beta1TrialTemplate(\n",
    "    retain=True,\n",
    "    primary_container_name=\"training-container\",\n",
    "    trial_parameters=[\n",
    "        V1beta1TrialParameterSpec(\n",
    "            name=\"learningRate\",\n",
    "            description=\"Learning rate for the training model\",\n",
    "            reference=\"lr\"\n",
    "        ),\n",
    "        V1beta1TrialParameterSpec(\n",
    "            name=\"momentum\",\n",
    "            description=\"Momentum for the training model\",\n",
    "            reference=\"momentum\"\n",
    "        ),\n",
    "    ],\n",
    "    trial_spec=trial_spec\n",
    ")"
   ]
  },
  {
   "cell_type": "markdown",
   "metadata": {},
   "source": [
    "## Define an Experiment specification\n",
    "\n",
    "Create an Experiment specification from the above parameters."
   ]
  },
  {
   "cell_type": "code",
   "execution_count": 4,
   "metadata": {},
   "outputs": [],
   "source": [
    "experiment_spec=V1beta1ExperimentSpec(\n",
    "    max_trial_count=max_trial_count,\n",
    "    max_failed_trial_count=max_failed_trial_count,\n",
    "    parallel_trial_count=parallel_trial_count,\n",
    "    objective=objective,\n",
    "    algorithm=algorithm,\n",
    "    early_stopping=early_stopping,\n",
    "    parameters=parameters,\n",
    "    trial_template=trial_template\n",
    ")"
   ]
  },
  {
   "cell_type": "markdown",
   "metadata": {},
   "source": [
    "# Create a Pipeline using Katib component\n",
    "\n",
    "The best hyperparameters are printed after Experiment is finished.\n",
    "The Experiment is not deleted after the Pipeline is finished."
   ]
  },
  {
   "cell_type": "code",
   "execution_count": 9,
   "metadata": {},
   "outputs": [],
   "source": [
    "from kfp import dsl, components\n",
    "from kfp.dsl import pipeline, component\n",
    "# from kubernetes.client import ApiClient\n",
    "\n",
    "# # Load Katib launcher component\n",
    "katib_experiment_launcher_op = components.load_component_from_url(\n",
    "    \"https://raw.githubusercontent.com/kubeflow/pipelines/master/components/contrib/kubeflow/katib-launcher/component.yaml\")\n",
    "\n",
    "@component\n",
    "def print_best_hp(best_hp: dict):\n",
    "    print(f\"Best HyperParameters: {best_hp}\")\n",
    "\n",
    "@dsl.pipeline(\n",
    "    name=\"Launch Katib early stopping Experiment\",\n",
    "    description=\"An example to launch Katib Experiment with early stopping\"\n",
    ")\n",
    "def median_stop_pipeline():\n",
    "    # Katib launcher component\n",
    "    op = katib_experiment_launcher_op(\n",
    "        experiment_name=experiment_name,\n",
    "        experiment_namespace=experiment_namespace,\n",
    "        experiment_spec=ApiClient().sanitize_for_serialization(experiment_spec),\n",
    "        experiment_timeout_minutes=60,\n",
    "        delete_finished_experiment=False,\n",
    "    )\n",
    "\n",
    "    # Replace ContainerOp with a component\n",
    "    # print_best_hp(best_hp=op.outputs)\n"
   ]
  },
  {
   "cell_type": "code",
   "execution_count": 10,
   "metadata": {},
   "outputs": [],
   "source": [
    "# # Get the Katib launcher.\n",
    "# # katib_experiment_launcher_op = components.load_component_from_url(\n",
    "# #     \"https://raw.githubusercontent.com/kubeflow/pipelines/master/components/kubeflow/katib-launcher/component.yaml\")\n",
    "# katib_experiment_launcher_op = components.load_component_from_url(\n",
    "#     \"https://raw.githubusercontent.com/kubeflow/pipelines/master/components/contrib/kubeflow/katib-launcher/component.yaml\")\n",
    "\n",
    "# @dsl.pipeline(\n",
    "#     name=\"Launch Katib early stopping Experiment\",\n",
    "#     description=\"An example to launch Katib Experiment with early stopping\"\n",
    "# )\n",
    "\n",
    "# def median_stop():\n",
    "\n",
    "#     # Katib launcher component.\n",
    "#     # Experiment Spec should be serialized to a valid Kubernetes object.\n",
    "#     op = katib_experiment_launcher_op(\n",
    "#         experiment_name=experiment_name,\n",
    "#         experiment_namespace=experiment_namespace,\n",
    "#         experiment_spec=ApiClient().sanitize_for_serialization(experiment_spec),\n",
    "#         experiment_timeout_minutes=60,\n",
    "#         delete_finished_experiment=False)\n",
    "\n",
    "#     # Output container to print the results.\n",
    "#     op_out = dsl.ContainerOp(\n",
    "#         name=\"best-hp\",\n",
    "#         image=\"library/bash:4.4.23\",\n",
    "#         command=[\"sh\", \"-c\"],\n",
    "#         arguments=[\"echo Best HyperParameters: %s\" % op.output],\n",
    "#     )"
   ]
  },
  {
   "cell_type": "code",
   "execution_count": null,
   "metadata": {},
   "outputs": [],
   "source": []
  },
  {
   "cell_type": "markdown",
   "metadata": {},
   "source": [
    "# Run the Kubeflow Pipeline\n",
    "\n",
    "You can check the Katib Experiment info in the Katib UI."
   ]
  },
  {
   "cell_type": "code",
   "execution_count": 11,
   "metadata": {
    "scrolled": true
   },
   "outputs": [],
   "source": [
    "# # Run the Kubeflow Pipeline in the user's namespace.\n",
    "# kfp.Client().create_run_from_pipeline_func(median_stop,  namespace=experiment_namespace, arguments={})"
   ]
  },
  {
   "cell_type": "code",
   "execution_count": 12,
   "metadata": {},
   "outputs": [
    {
     "data": {
      "text/html": [
       "<a href=\"/pipeline/#/experiments/details/23f981cb-c1fb-4d57-9c02-76cf904dc778\" target=\"_blank\" >Experiment details</a>."
      ],
      "text/plain": [
       "<IPython.core.display.HTML object>"
      ]
     },
     "metadata": {},
     "output_type": "display_data"
    },
    {
     "data": {
      "text/html": [
       "<a href=\"/pipeline/#/runs/details/5b857074-eebe-46df-8245-17aed6ab3c6b\" target=\"_blank\" >Run details</a>."
      ],
      "text/plain": [
       "<IPython.core.display.HTML object>"
      ]
     },
     "metadata": {},
     "output_type": "display_data"
    },
    {
     "data": {
      "text/plain": [
       "RunPipelineResult(run_id=5b857074-eebe-46df-8245-17aed6ab3c6b)"
      ]
     },
     "execution_count": 12,
     "metadata": {},
     "output_type": "execute_result"
    }
   ],
   "source": [
    "# Run the Kubeflow Pipeline in the user's namespace.\n",
    "kfp.Client().create_run_from_pipeline_func(median_stop_pipeline,  namespace=experiment_namespace, arguments={})"
   ]
  },
  {
   "cell_type": "code",
   "execution_count": null,
   "metadata": {},
   "outputs": [],
   "source": []
  }
 ],
 "metadata": {
  "kernelspec": {
   "display_name": "testnew",
   "language": "python",
   "name": "env"
  },
  "language_info": {
   "codemirror_mode": {
    "name": "ipython",
    "version": 3
   },
   "file_extension": ".py",
   "mimetype": "text/x-python",
   "name": "python",
   "nbconvert_exporter": "python",
   "pygments_lexer": "ipython3",
   "version": "3.8.20"
  }
 },
 "nbformat": 4,
 "nbformat_minor": 4
}
